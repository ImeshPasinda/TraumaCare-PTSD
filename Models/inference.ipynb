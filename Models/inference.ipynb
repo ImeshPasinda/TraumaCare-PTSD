{
 "cells": [
  {
   "cell_type": "code",
   "execution_count": 1,
   "metadata": {},
   "outputs": [],
   "source": [
    "import cv2 as cv\n",
    "import numpy as np \n",
    "import tensorflow as tf"
   ]
  },
  {
   "cell_type": "code",
   "execution_count": 2,
   "metadata": {},
   "outputs": [],
   "source": [
    "model_emotion = tf.keras.models.load_model('artifacts/emotion_model.h5')\n",
    "model_emotion.compile(\n",
    "                optimizer=tf.keras.optimizers.Adam(),\n",
    "                loss=tf.keras.losses.CategoricalCrossentropy(from_logits=True),\n",
    "                metrics=[\n",
    "                        tf.keras.metrics.CategoricalAccuracy(name='accuracy'),\n",
    "                        tf.keras.metrics.Precision(name='precision'),\n",
    "                        tf.keras.metrics.Recall(name='recall'),\n",
    "                        tf.keras.metrics.AUC(name='auc')\n",
    "                        ]\n",
    "                )\n",
    "\n",
    "model_ptsd = tf.keras.models.load_model('artifacts/ptsd_model.h5')\n",
    "model_ptsd.compile(\n",
    "                optimizer='adam', \n",
    "                loss='categorical_crossentropy', \n",
    "                metrics=[\n",
    "                        tf.keras.metrics.CategoricalAccuracy(name='accuracy'),\n",
    "                        tf.keras.metrics.Precision(name='precision'),\n",
    "                        tf.keras.metrics.Recall(name='recall'),\n",
    "                        tf.keras.metrics.AUC(name='auc')\n",
    "                        ]\n",
    "                )"
   ]
  },
  {
   "cell_type": "markdown",
   "metadata": {},
   "source": [
    "### TESS"
   ]
  },
  {
   "cell_type": "code",
   "execution_count": 4,
   "metadata": {},
   "outputs": [],
   "source": [
    "def get_spectrogram(waveform):\n",
    "    spectrogram = tf.signal.stft(\n",
    "                                waveform, \n",
    "                                frame_length=255, \n",
    "                                frame_step=128\n",
    "                                )\n",
    "    spectrogram = tf.abs(spectrogram)\n",
    "    spectrogram = spectrogram[..., tf.newaxis]\n",
    "    return spectrogram\n",
    "\n",
    "def inference_emotion(\n",
    "                    audio_file,\n",
    "                    class_dict = {\n",
    "                                0: 'Angry',\n",
    "                                1: 'Fear',\n",
    "                                2: 'Happy',\n",
    "                                3: 'Neutral',\n",
    "                                4: 'Pleasant_surprise',\n",
    "                                5: 'Sad',\n",
    "                                6: 'disgust'\n",
    "                                },\n",
    "                    output_sequence_length=16000\n",
    "                    ):\n",
    "    raw_audio = tf.io.read_file(audio_file)\n",
    "    waveform = tf.audio.decode_wav(raw_audio).audio\n",
    "    waveform = tf.squeeze(waveform, axis=-1)\n",
    "    waveform_length = tf.shape(waveform)[0]\n",
    "    if waveform_length < output_sequence_length:\n",
    "        waveform = tf.concat([waveform, tf.zeros(output_sequence_length - waveform_length)], 0)\n",
    "    elif waveform_length > output_sequence_length:\n",
    "        waveform = waveform[:output_sequence_length]\n",
    "    spectrogram = get_spectrogram(waveform)\n",
    "    spectrogram = tf.expand_dims(spectrogram, axis=0)\n",
    "    \n",
    "    prediction = model_emotion.predict(spectrogram)\n",
    "    prediction = tf.nn.softmax(prediction)\n",
    "    prediction = tf.squeeze(prediction, axis=0)\n",
    "    prediction = prediction.numpy().argmax()\n",
    "    prediction = class_dict[prediction]\n",
    "    return prediction"
   ]
  },
  {
   "cell_type": "code",
   "execution_count": 8,
   "metadata": {},
   "outputs": [
    {
     "name": "stdout",
     "output_type": "stream",
     "text": [
      "1/1 [==============================] - 0s 28ms/step\n"
     ]
    },
    {
     "data": {
      "text/plain": [
       "'Neutral'"
      ]
     },
     "execution_count": 8,
     "metadata": {},
     "output_type": "execute_result"
    }
   ],
   "source": [
    "inference_emotion('data/TESS/Neutral/1001_IEO_NEU_XX.wav')"
   ]
  },
  {
   "cell_type": "markdown",
   "metadata": {},
   "source": [
    "### PTSD"
   ]
  },
  {
   "cell_type": "code",
   "execution_count": 12,
   "metadata": {},
   "outputs": [],
   "source": [
    "def preprocessing_function(image):\n",
    "    return tf.keras.applications.xception.preprocess_input(image)\n",
    "    \n",
    "def inference_ptsd(\n",
    "                    image_path,\n",
    "                    class_dict = {\n",
    "                                0: 'High Level', \n",
    "                                1: 'Low Level', \n",
    "                                2: 'Medium Level'\n",
    "                                }\n",
    "                    ):\n",
    "    image = cv.imread(image_path)\n",
    "    image = cv.cvtColor(image, cv.COLOR_BGR2RGB)\n",
    "    image = cv.resize(image, (72, 72))\n",
    "    image = np.expand_dims(image, axis=0)\n",
    "    image = preprocessing_function(image)\n",
    "    pred = model_ptsd.predict(\n",
    "                            image,\n",
    "                            verbose=0\n",
    "                            ).squeeze()\n",
    "    label = int(pred.argmax())\n",
    "    label = class_dict[label]\n",
    "    return label"
   ]
  },
  {
   "cell_type": "code",
   "execution_count": 13,
   "metadata": {},
   "outputs": [
    {
     "data": {
      "text/plain": [
       "'High Level'"
      ]
     },
     "execution_count": 13,
     "metadata": {},
     "output_type": "execute_result"
    }
   ],
   "source": [
    "inference_ptsd('data/PTSD/High Level/Training_3908.jpg')"
   ]
  }
 ],
 "metadata": {
  "kernelspec": {
   "display_name": "pythonenv",
   "language": "python",
   "name": "python3"
  },
  "language_info": {
   "codemirror_mode": {
    "name": "ipython",
    "version": 3
   },
   "file_extension": ".py",
   "mimetype": "text/x-python",
   "name": "python",
   "nbconvert_exporter": "python",
   "pygments_lexer": "ipython3",
   "version": "3.8.20"
  }
 },
 "nbformat": 4,
 "nbformat_minor": 2
}
