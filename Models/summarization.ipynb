{
 "cells": [
  {
   "cell_type": "code",
   "execution_count": 2,
   "metadata": {},
   "outputs": [
    {
     "name": "stderr",
     "output_type": "stream",
     "text": [
      "c:\\Users\\User\\anaconda3\\envs\\pythonenv\\lib\\site-packages\\tqdm\\auto.py:21: TqdmWarning: IProgress not found. Please update jupyter and ipywidgets. See https://ipywidgets.readthedocs.io/en/stable/user_install.html\n",
      "  from .autonotebook import tqdm as notebook_tqdm\n"
     ]
    }
   ],
   "source": [
    "# Importing Required Libraries\n",
    "from transformers import pipeline\n",
    "from PIL import Image\n",
    "import pytesseract\n",
    "import speech_recognition as sr"
   ]
  },
  {
   "cell_type": "code",
   "execution_count": 3,
   "metadata": {},
   "outputs": [],
   "source": [
    "# Setting Tesseract OCR Path\n",
    "OCR_CONFIG_PATH = \"C:/Program Files/Tesseract-OCR/tesseract.exe\"\n",
    "pytesseract.pytesseract.tesseract_cmd = OCR_CONFIG_PATH"
   ]
  },
  {
   "cell_type": "code",
   "execution_count": 4,
   "metadata": {},
   "outputs": [
    {
     "name": "stderr",
     "output_type": "stream",
     "text": [
      "No model was supplied, defaulted to distilbert/distilbert-base-uncased-finetuned-sst-2-english and revision 714eb0f (https://huggingface.co/distilbert/distilbert-base-uncased-finetuned-sst-2-english).\n",
      "Using a pipeline without specifying a model name and revision in production is not recommended.\n",
      "No model was supplied, defaulted to dbmdz/bert-large-cased-finetuned-conll03-english and revision 4c53496 (https://huggingface.co/dbmdz/bert-large-cased-finetuned-conll03-english).\n",
      "Using a pipeline without specifying a model name and revision in production is not recommended.\n",
      "Some weights of the model checkpoint at dbmdz/bert-large-cased-finetuned-conll03-english were not used when initializing BertForTokenClassification: ['bert.pooler.dense.bias', 'bert.pooler.dense.weight']\n",
      "- This IS expected if you are initializing BertForTokenClassification from the checkpoint of a model trained on another task or with another architecture (e.g. initializing a BertForSequenceClassification model from a BertForPreTraining model).\n",
      "- This IS NOT expected if you are initializing BertForTokenClassification from the checkpoint of a model that you expect to be exactly identical (initializing a BertForSequenceClassification model from a BertForSequenceClassification model).\n",
      "c:\\Users\\User\\anaconda3\\envs\\pythonenv\\lib\\site-packages\\transformers\\pipelines\\token_classification.py:170: UserWarning: `grouped_entities` is deprecated and will be removed in version v5.0.0, defaulted to `aggregation_strategy=\"simple\"` instead.\n",
      "  warnings.warn(\n"
     ]
    }
   ],
   "source": [
    "# Initializing NLP Pipelines\n",
    "summarizer = pipeline(\"summarization\", model=\"facebook/bart-large-cnn\")\n",
    "sentiment_analyzer = pipeline(\"sentiment-analysis\")\n",
    "ner_analyzer = pipeline(\"ner\", grouped_entities=True)"
   ]
  },
  {
   "cell_type": "code",
   "execution_count": 5,
   "metadata": {},
   "outputs": [],
   "source": [
    "# Function: Speech-to-Text (STT)\n",
    "def STT(audio_file):\n",
    "    \"\"\"Convert speech from an audio file to text using Google Speech Recognition.\"\"\"\n",
    "    r = sr.Recognizer()\n",
    "    with sr.AudioFile(audio_file) as source:\n",
    "        audio = r.record(source)\n",
    "    try:\n",
    "        text = r.recognize_google(audio)\n",
    "    except sr.UnknownValueError:\n",
    "        return \"Google Speech Recognition could not understand audio\"\n",
    "    except sr.RequestError as e:\n",
    "        return f\"Could not request results from Google Speech Recognition service; {e}\"\n",
    "\n",
    "    return text\n",
    "\n",
    "# Function: Image-to-Text (ITT)\n",
    "def ITT(image_file):\n",
    "    \"\"\"Extract text from an image using Tesseract OCR.\"\"\"\n",
    "    img_file = Image.open(image_file)\n",
    "    text = pytesseract.image_to_string(img_file)\n",
    "    return text\n",
    "\n",
    "# Function: Analyze Text\n",
    "def analyze_text(text):\n",
    "    \"\"\"Analyze text to generate summary, sentiment, and named entities.\"\"\"\n",
    "    # Summarization\n",
    "    summary = summarizer(text, min_length=30, max_length=130, do_sample=False)[0]['summary_text']\n",
    "    # Sentiment Analysis\n",
    "    sentiment = sentiment_analyzer(text)\n",
    "    # Named Entity Recognition\n",
    "    entities = ner_analyzer(text)\n",
    "\n",
    "    return {\n",
    "        \"summary\": summary,\n",
    "        \"sentiment\": sentiment,\n",
    "        \"entities\": entities\n",
    "    }\n"
   ]
  },
  {
   "cell_type": "code",
   "execution_count": 6,
   "metadata": {},
   "outputs": [],
   "source": [
    "# Function: Process File (Main Pipeline)\n",
    "def summary_pipeline(file_path):\n",
    "    \"\"\"Process an image or audio file, extract text, and analyze it.\"\"\"\n",
    "    if file_path.endswith(\".jpg\") or file_path.endswith(\".png\"):\n",
    "        text = str(ITT(file_path))\n",
    "    elif file_path.endswith(\".wav\"):\n",
    "        text = str(STT(file_path))\n",
    "    else:\n",
    "        raise ValueError(f\"Invalid file format: {file_path}\")\n",
    "\n",
    "    # Analyze the extracted text\n",
    "    analysis = analyze_text(text)\n",
    "    return analysis\n"
   ]
  },
  {
   "cell_type": "code",
   "execution_count": 9,
   "metadata": {},
   "outputs": [
    {
     "name": "stdout",
     "output_type": "stream",
     "text": [
      "Text Analysis: {'summary': 'Amanda Olejniczak went to therapy for the first time on June 9, 2000, at age four. At age sixteen, she was diagnosed with depression and anorexia. She also struggle with post-traumatic stress disorder due to her past relationship with her mother and her second husband.', 'sentiment': [{'label': 'POSITIVE', 'score': 0.9856559038162231}], 'entities': [{'entity_group': 'PER', 'score': 0.98719156, 'word': 'Amanda Olejniczak', 'start': 11, 'end': 28}]}\n"
     ]
    }
   ],
   "source": [
    "# Test text input for analysis\n",
    "text_input = \"My name is Amanda Olejniczak, I went to therapy for the first time on June 9, 2000, at age four but I never returned because my mother was blamed for my behavior. I still wonder how different life could have been had I continued to get the necessary help for my OCD and anxiety at that age. Later in life, at age sixteen, I was diagnosed with depression and anorexia; now at age twenty-six I also struggle with post-traumatic stress disorder due to my past relationship with my mother and her second husband. I have been in therapy for my mental illnesses consistently since I was diagnosed with anorexia at age sixteen, but it wasn’t until I met my current therapist after being discharged from treatment for the second time, that I believe the real work has begun. When I met my new therapist, I immediately felt seen and heard. This was something I had never experienced before; I didn’t think I deserved it. I had been told by previous therapists that I would not achieve anything and my mother was told to not expect anything out of me so she wouldn’t be disappointed. This therapist was different. She not only saw me for who I was, she saw the potential I had and continues to push me towards being the best version of myself. At twenty-six, my list of diagnoses, with the exception of anorexia, has not changed, but I’m finally learning how to better navigate my life while living with my mental illnesses. In this essay, I explicitly tell my story of how losing the toxic relationship with my mother left room for me to find myself. An entire year has gone by since I last heard from or seen my mother.\"\n",
    "result_text = analyze_text(text_input)\n",
    "print(\"Text Analysis:\", result_text)"
   ]
  },
  {
   "cell_type": "code",
   "execution_count": 12,
   "metadata": {},
   "outputs": [
    {
     "name": "stderr",
     "output_type": "stream",
     "text": [
      "Your max_length is set to 130, but your input_length is only 77. Since this is a summarization task, where outputs shorter than the input are typically wanted, you might consider decreasing max_length manually, e.g. summarizer('...', max_length=38)\n"
     ]
    },
    {
     "name": "stdout",
     "output_type": "stream",
     "text": [
      "Audio Analysis: {'summary': \"In My Dreams during the day small noise is like Fireworks scared me I avoided crowd because they made me feel trapped sometimes I feel like I was done to explain better step by step. one day during a mission I lost my best friend in an explosion even though the war ended the memories didn't leave me at night.\", 'sentiment': [{'label': 'NEGATIVE', 'score': 0.9889577031135559}], 'entities': [{'entity_group': 'MISC', 'score': 0.8633633, 'word': 'Dreams', 'start': 202, 'end': 208}]}\n"
     ]
    }
   ],
   "source": [
    "# Audio File Analysis\n",
    "result_audio = summary_pipeline('data/SUMM/voice_1.wav')\n",
    "print(\"Audio Analysis:\", result_audio)"
   ]
  },
  {
   "cell_type": "code",
   "execution_count": 11,
   "metadata": {},
   "outputs": [
    {
     "name": "stdout",
     "output_type": "stream",
     "text": [
      "Image Analysis: {'summary': 'Sara was attacked by a stranger while walking home from a friend’s house. After the attack, she felt broken, like he had taken a piece of her soul. She avoided her family and friends, terrified that they’d see her differently. After months of therapy, she learned she could still find strength and joy in the world.', 'sentiment': [{'label': 'POSITIVE', 'score': 0.9683920741081238}], 'entities': [{'entity_group': 'PER', 'score': 0.92782956, 'word': 'Sara', 'start': 11, 'end': 15}]}\n"
     ]
    }
   ],
   "source": [
    "# Image File Analysis\n",
    "result_image = summary_pipeline('data/SUMM/story_1.png')\n",
    "print(\"Image Analysis:\", result_image)"
   ]
  }
 ],
 "metadata": {
  "kernelspec": {
   "display_name": "pythonenv",
   "language": "python",
   "name": "python3"
  },
  "language_info": {
   "codemirror_mode": {
    "name": "ipython",
    "version": 3
   },
   "file_extension": ".py",
   "mimetype": "text/x-python",
   "name": "python",
   "nbconvert_exporter": "python",
   "pygments_lexer": "ipython3",
   "version": "3.8.20"
  }
 },
 "nbformat": 4,
 "nbformat_minor": 2
}
