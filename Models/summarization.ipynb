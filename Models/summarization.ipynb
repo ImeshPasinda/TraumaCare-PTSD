{
 "cells": [
  {
   "cell_type": "code",
   "execution_count": null,
   "metadata": {},
   "outputs": [],
   "source": [
    "# Importing Required Libraries\n",
    "from transformers import pipeline\n",
    "from PIL import Image\n",
    "import pytesseract\n",
    "import speech_recognition as sr"
   ]
  },
  {
   "cell_type": "code",
   "execution_count": 11,
   "metadata": {},
   "outputs": [],
   "source": [
    "# Setting Tesseract OCR Path\n",
    "OCR_CONFIG_PATH = \"C:/Program Files/Tesseract-OCR/tesseract.exe\"\n",
    "pytesseract.pytesseract.tesseract_cmd = OCR_CONFIG_PATH"
   ]
  },
  {
   "cell_type": "code",
   "execution_count": null,
   "metadata": {},
   "outputs": [],
   "source": [
    "# Initializing NLP Pipelines\n",
    "summarizer = pipeline(\"summarization\", model=\"facebook/bart-large-cnn\")\n",
    "sentiment_analyzer = pipeline(\"sentiment-analysis\")\n",
    "ner_analyzer = pipeline(\"ner\", grouped_entities=True)"
   ]
  },
  {
   "cell_type": "code",
   "execution_count": 3,
   "metadata": {},
   "outputs": [],
   "source": [
    "# Function: Speech-to-Text (STT)\n",
    "def STT(audio_file):\n",
    "    \"\"\"Convert speech from an audio file to text using Google Speech Recognition.\"\"\"\n",
    "    r = sr.Recognizer()\n",
    "    with sr.AudioFile(audio_file) as source:\n",
    "        audio = r.record(source)\n",
    "    try:\n",
    "        text = r.recognize_google(audio)\n",
    "    except sr.UnknownValueError:\n",
    "        return \"Google Speech Recognition could not understand audio\"\n",
    "    except sr.RequestError as e:\n",
    "        return f\"Could not request results from Google Speech Recognition service; {e}\"\n",
    "\n",
    "    return text\n",
    "\n",
    "# Function: Image-to-Text (ITT)\n",
    "def ITT(image_file):\n",
    "    \"\"\"Extract text from an image using Tesseract OCR.\"\"\"\n",
    "    img_file = Image.open(image_file)\n",
    "    text = pytesseract.image_to_string(img_file)\n",
    "    return text\n",
    "\n",
    "# Function: Analyze Text\n",
    "def analyze_text(text):\n",
    "    \"\"\"Analyze text to generate summary, sentiment, and named entities.\"\"\"\n",
    "    # Summarization\n",
    "    summary = summarizer(text, min_length=30, max_length=130, do_sample=False)[0]['summary_text']\n",
    "    # Sentiment Analysis\n",
    "    sentiment = sentiment_analyzer(text)\n",
    "    # Named Entity Recognition\n",
    "    entities = ner_analyzer(text)\n",
    "\n",
    "    return {\n",
    "        \"summary\": summary,\n",
    "        \"sentiment\": sentiment,\n",
    "        \"entities\": entities\n",
    "    }\n"
   ]
  },
  {
   "cell_type": "code",
   "execution_count": 12,
   "metadata": {},
   "outputs": [],
   "source": [
    "# Function: Process File (Main Pipeline)\n",
    "def summary_pipeline(file_path):\n",
    "    \"\"\"Process an image or audio file, extract text, and analyze it.\"\"\"\n",
    "    if file_path.endswith(\".jpg\") or file_path.endswith(\".png\"):\n",
    "        text = str(ITT(file_path))\n",
    "    elif file_path.endswith(\".wav\"):\n",
    "        text = str(STT(file_path))\n",
    "    else:\n",
    "        raise ValueError(f\"Invalid file format: {file_path}\")\n",
    "\n",
    "    # Analyze the extracted text\n",
    "    analysis = analyze_text(text)\n",
    "    return analysis\n"
   ]
  },
  {
   "cell_type": "code",
   "execution_count": null,
   "metadata": {},
   "outputs": [],
   "source": [
    "# Test text input for analysis\n",
    "text_input = \"Alex sat in his room, the quiet almost too loud. The war was over, but it felt like it never left. Every night, memories flooded back—gunfire, explosions, the faces of people lost. One night, a loud sound from outside made his heart race. He froze, his mind taken back to the battlefield. The feeling of danger, the fear, it was all too real. He tried to shake it off, but it was hard. At work, he couldn’t focus. Even the simplest noises made him jump. His friends didn’t understand, and that made him feel even more alone. The hardest part was when he saw a child playing in the park. It reminded him of the innocent lives lost in the war. His hands shook, but he took a deep breath, reminding himself that he was home now. Healing was slow, but he knew he had to keep going.\"\n",
    "result_text = analyze_text(text_input)\n",
    "print(\"Text Analysis:\", result_text)"
   ]
  },
  {
   "cell_type": "code",
   "execution_count": null,
   "metadata": {},
   "outputs": [],
   "source": [
    "# Audio File Analysis\n",
    "result_audio = summary_pipeline('data/SUMM/voice_1.wav')\n",
    "print(\"Audio Analysis:\", result_audio)"
   ]
  },
  {
   "cell_type": "code",
   "execution_count": null,
   "metadata": {},
   "outputs": [],
   "source": [
    "# Image File Analysis\n",
    "result_image = summary_pipeline('data/SUMM/story_1.png')\n",
    "print(\"Image Analysis:\", result_image)"
   ]
  }
 ],
 "metadata": {
  "kernelspec": {
   "display_name": "pythonenv",
   "language": "python",
   "name": "python3"
  },
  "language_info": {
   "codemirror_mode": {
    "name": "ipython",
    "version": 3
   },
   "file_extension": ".py",
   "mimetype": "text/x-python",
   "name": "python",
   "nbconvert_exporter": "python",
   "pygments_lexer": "ipython3",
   "version": "3.8.20"
  }
 },
 "nbformat": 4,
 "nbformat_minor": 2
}
