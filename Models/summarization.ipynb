{
 "cells": [
  {
   "cell_type": "code",
   "execution_count": null,
   "metadata": {},
   "outputs": [
    {
     "name": "stderr",
     "output_type": "stream",
     "text": [
      "c:\\Users\\ASUS\\anaconda3\\envs\\pythonenv\\lib\\site-packages\\tqdm\\auto.py:21: TqdmWarning: IProgress not found. Please update jupyter and ipywidgets. See https://ipywidgets.readthedocs.io/en/stable/user_install.html\n",
      "  from .autonotebook import tqdm as notebook_tqdm\n"
     ]
    }
   ],
   "source": [
    "# Importing Required Libraries\n",
    "from transformers import pipeline\n",
    "from PIL import Image\n",
    "import pytesseract\n",
    "import speech_recognition as sr"
   ]
  },
  {
   "cell_type": "code",
   "execution_count": 11,
   "metadata": {},
   "outputs": [],
   "source": [
    "# Setting Tesseract OCR Path\n",
    "OCR_CONFIG_PATH = \"C:/Program Files/Tesseract-OCR/tesseract.exe\"\n",
    "pytesseract.pytesseract.tesseract_cmd = OCR_CONFIG_PATH"
   ]
  },
  {
   "cell_type": "code",
   "execution_count": 2,
   "metadata": {},
   "outputs": [
    {
     "name": "stderr",
     "output_type": "stream",
     "text": [
      "No model was supplied, defaulted to distilbert/distilbert-base-uncased-finetuned-sst-2-english and revision 714eb0f (https://huggingface.co/distilbert/distilbert-base-uncased-finetuned-sst-2-english).\n",
      "Using a pipeline without specifying a model name and revision in production is not recommended.\n",
      "No model was supplied, defaulted to dbmdz/bert-large-cased-finetuned-conll03-english and revision 4c53496 (https://huggingface.co/dbmdz/bert-large-cased-finetuned-conll03-english).\n",
      "Using a pipeline without specifying a model name and revision in production is not recommended.\n",
      "Some weights of the model checkpoint at dbmdz/bert-large-cased-finetuned-conll03-english were not used when initializing BertForTokenClassification: ['bert.pooler.dense.bias', 'bert.pooler.dense.weight']\n",
      "- This IS expected if you are initializing BertForTokenClassification from the checkpoint of a model trained on another task or with another architecture (e.g. initializing a BertForSequenceClassification model from a BertForPreTraining model).\n",
      "- This IS NOT expected if you are initializing BertForTokenClassification from the checkpoint of a model that you expect to be exactly identical (initializing a BertForSequenceClassification model from a BertForSequenceClassification model).\n",
      "c:\\Users\\ASUS\\anaconda3\\envs\\pythonenv\\lib\\site-packages\\transformers\\pipelines\\token_classification.py:170: UserWarning: `grouped_entities` is deprecated and will be removed in version v5.0.0, defaulted to `aggregation_strategy=\"simple\"` instead.\n",
      "  warnings.warn(\n"
     ]
    }
   ],
   "source": [
    "# Initializing NLP Pipelines\n",
    "summarizer = pipeline(\"summarization\", model=\"facebook/bart-large-cnn\")\n",
    "sentiment_analyzer = pipeline(\"sentiment-analysis\")\n",
    "ner_analyzer = pipeline(\"ner\", grouped_entities=True)"
   ]
  },
  {
   "cell_type": "code",
   "execution_count": 3,
   "metadata": {},
   "outputs": [],
   "source": [
    "# Function: Speech-to-Text (STT)\n",
    "def STT(audio_file):\n",
    "    \"\"\"Convert speech from an audio file to text using Google Speech Recognition.\"\"\"\n",
    "    r = sr.Recognizer()\n",
    "    with sr.AudioFile(audio_file) as source:\n",
    "        audio = r.record(source)\n",
    "    try:\n",
    "        text = r.recognize_google(audio)\n",
    "    except sr.UnknownValueError:\n",
    "        return \"Google Speech Recognition could not understand audio\"\n",
    "    except sr.RequestError as e:\n",
    "        return f\"Could not request results from Google Speech Recognition service; {e}\"\n",
    "\n",
    "    return text\n",
    "\n",
    "# Function: Image-to-Text (ITT)\n",
    "def ITT(image_file):\n",
    "    \"\"\"Extract text from an image using Tesseract OCR.\"\"\"\n",
    "    img_file = Image.open(image_file)\n",
    "    text = pytesseract.image_to_string(img_file)\n",
    "    return text\n",
    "\n",
    "# Function: Analyze Text\n",
    "def analyze_text(text):\n",
    "    \"\"\"Analyze text to generate summary, sentiment, and named entities.\"\"\"\n",
    "    # Summarization\n",
    "    summary = summarizer(text, min_length=30, max_length=130, do_sample=False)[0]['summary_text']\n",
    "    # Sentiment Analysis\n",
    "    sentiment = sentiment_analyzer(text)\n",
    "    # Named Entity Recognition\n",
    "    entities = ner_analyzer(text)\n",
    "\n",
    "    return {\n",
    "        \"summary\": summary,\n",
    "        \"sentiment\": sentiment,\n",
    "        \"entities\": entities\n",
    "    }\n"
   ]
  },
  {
   "cell_type": "code",
   "execution_count": 12,
   "metadata": {},
   "outputs": [],
   "source": [
    "# Function: Process File (Main Pipeline)\n",
    "def summary_pipeline(file_path):\n",
    "    \"\"\"Process an image or audio file, extract text, and analyze it.\"\"\"\n",
    "    if file_path.endswith(\".jpg\") or file_path.endswith(\".png\"):\n",
    "        text = str(ITT(file_path))\n",
    "    elif file_path.endswith(\".wav\"):\n",
    "        text = str(STT(file_path))\n",
    "    else:\n",
    "        raise ValueError(f\"Invalid file format: {file_path}\")\n",
    "\n",
    "    # Analyze the extracted text\n",
    "    analysis = analyze_text(text)\n",
    "    return analysis\n"
   ]
  },
  {
   "cell_type": "code",
   "execution_count": null,
   "metadata": {},
   "outputs": [
    {
     "name": "stdout",
     "output_type": "stream",
     "text": [
      "Text Analysis: {'summary': 'The war was over, but it felt like it never left. Every night, memories flooded back. Even the simplest noises made him jump. The hardest part was when he saw a child playing in the park.', 'sentiment': [{'label': 'NEGATIVE', 'score': 0.6555995941162109}], 'entities': [{'entity_group': 'PER', 'score': 0.96746594, 'word': 'Alex', 'start': 0, 'end': 4}]}\n"
     ]
    }
   ],
   "source": [
    "# Test text input for analysis\n",
    "text_input = \"Alex sat in his room, the quiet almost too loud. The war was over, but it felt like it never left. Every night, memories flooded back—gunfire, explosions, the faces of people lost. One night, a loud sound from outside made his heart race. He froze, his mind taken back to the battlefield. The feeling of danger, the fear, it was all too real. He tried to shake it off, but it was hard. At work, he couldn’t focus. Even the simplest noises made him jump. His friends didn’t understand, and that made him feel even more alone. The hardest part was when he saw a child playing in the park. It reminded him of the innocent lives lost in the war. His hands shook, but he took a deep breath, reminding himself that he was home now. Healing was slow, but he knew he had to keep going.\"\n",
    "result_text = analyze_text(text_input)\n",
    "print(\"Text Analysis:\", result_text)"
   ]
  },
  {
   "cell_type": "code",
   "execution_count": null,
   "metadata": {},
   "outputs": [],
   "source": [
    "# Audio File Analysis\n",
    "result_audio = summary_pipeline('data/SUMM/voice_1.wav')\n",
    "print(\"Audio Analysis:\", result_audio)"
   ]
  },
  {
   "cell_type": "code",
   "execution_count": 10,
   "metadata": {},
   "outputs": [
    {
     "name": "stdout",
     "output_type": "stream",
     "text": [
      "Image Analysis: {'summary': 'During a mission, Alex lost his best friend in an explosion. The memories were so vivid it felt like he was still there, stuck in that terrible moment. Alex realized he couldn’t keep living this way. He started talking to a counselor and joined a support group.', 'sentiment': [{'label': 'POSITIVE', 'score': 0.9938408136367798}], 'entities': [{'entity_group': 'PER', 'score': 0.9918094, 'word': 'Alex', 'start': 11, 'end': 15}, {'entity_group': 'PER', 'score': 0.95194453, 'word': 'Talso', 'start': 1213, 'end': 1218}]}\n"
     ]
    }
   ],
   "source": [
    "# Image File Analysis\n",
    "result_image = summary_pipeline('data/SUMM/story_1.png')\n",
    "print(\"Image Analysis:\", result_image)"
   ]
  }
 ],
 "metadata": {
  "kernelspec": {
   "display_name": "pythonenv",
   "language": "python",
   "name": "python3"
  },
  "language_info": {
   "codemirror_mode": {
    "name": "ipython",
    "version": 3
   },
   "file_extension": ".py",
   "mimetype": "text/x-python",
   "name": "python",
   "nbconvert_exporter": "python",
   "pygments_lexer": "ipython3",
   "version": "3.8.20"
  }
 },
 "nbformat": 4,
 "nbformat_minor": 2
}
